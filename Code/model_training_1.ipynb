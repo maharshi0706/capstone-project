{
 "cells": [
  {
   "cell_type": "code",
   "execution_count": 2,
   "metadata": {},
   "outputs": [],
   "source": [
    "import tensorflow as tf\n",
    "import tensorflow_hub as hub\n",
    "import tensorflow_datasets as tfds\n",
    "import os\n",
    "import numpy as np\n",
    "import cv2"
   ]
  },
  {
   "cell_type": "code",
   "execution_count": null,
   "metadata": {},
   "outputs": [],
   "source": [
    "DATASET_DIR = \"Dataset/Event_clips\"\n",
    "BATCH_SIZE = 8\n",
    "IMG_SIZE = (224, 224)\n",
    "SEQ_LENGTH = 16  # Number of frames per video clip\n",
    "\n",
    "model_id = \"a0\"  # Choose from a0 to a6\n",
    "movinet_model = hub.load(f\"https://tfhub.dev/tensorflow/movinet/{model_id}/stream/kinetics-600/classification/3\")"
   ]
  },
  {
   "cell_type": "code",
   "execution_count": null,
   "metadata": {},
   "outputs": [],
   "source": [
    "def preprocess_video(video_path):\n",
    "    cap = cv2.VideoCapture(video_path)\n",
    "    frames = []\n",
    "    \n",
    "    while cap.isOpened():\n",
    "        ret, frame = cap.read()\n",
    "        if not ret:\n",
    "            break\n",
    "        frame = cv2.resize(frame, IMG_SIZE)\n",
    "        frame = frame / 255.0  \n",
    "        frames.append(frame)\n",
    "    \n",
    "    cap.release()\n",
    "    \n",
    "    indices = np.linspace(0, len(frames) - 1, SEQ_LENGTH, dtype=int)\n",
    "    sampled_frames = np.array([frames[i] for i in indices])\n",
    "    return sampled_frames\n"
   ]
  },
  {
   "cell_type": "code",
   "execution_count": null,
   "metadata": {},
   "outputs": [],
   "source": [
    "def load_dataset(data_dir):\n",
    "    \"\"\"Loads videos and corresponding labels.\"\"\"\n",
    "    classes = sorted(os.listdir(data_dir))\n",
    "    class_to_idx = {cls: i for i, cls in enumerate(classes)}\n",
    "    \n",
    "    video_paths = []\n",
    "    labels = []\n",
    "    \n",
    "    for cls in classes:\n",
    "        cls_path = os.path.join(data_dir, cls)\n",
    "        for video_file in os.listdir(cls_path):\n",
    "            video_paths.append(os.path.join(cls_path, video_file))\n",
    "            labels.append(class_to_idx[cls])\n",
    "    \n",
    "    return video_paths, labels, class_to_idx\n",
    "\n",
    "video_paths, labels, class_to_idx = load_dataset(DATASET_DIR)\n",
    "num_classes = len(class_to_idx)"
   ]
  },
  {
   "cell_type": "code",
   "execution_count": null,
   "metadata": {},
   "outputs": [],
   "source": [
    "def create_tf_dataset(video_paths, labels):\n",
    "    \"\"\"Creates a TensorFlow dataset from video paths and labels.\"\"\"\n",
    "    def load_video(path, label):\n",
    "        frames = preprocess_video(path.numpy().decode(\"utf-8\"))\n",
    "        return frames, label\n",
    "    \n",
    "    dataset = tf.data.Dataset.from_tensor_slices((video_paths, labels))\n",
    "    dataset = dataset.map(lambda x, y: tf.py_function(load_video, [x, y], [tf.float32, tf.int32]))\n",
    "    dataset = dataset.batch(BATCH_SIZE).prefetch(tf.data.AUTOTUNE)\n",
    "    return dataset\n",
    "\n",
    "train_ds = create_tf_dataset(video_paths, labels)"
   ]
  },
  {
   "cell_type": "code",
   "execution_count": null,
   "metadata": {},
   "outputs": [],
   "source": [
    "inputs = tf.keras.layers.Input(shape=(SEQ_LENGTH, 224, 224, 3))\n",
    "x = movinet_model.signatures[\"serving_default\"](inputs)\n",
    "x = tf.keras.layers.Dense(num_classes, activation='softmax')(x[\"logits\"])\n",
    "\n",
    "model = tf.keras.Model(inputs, x)\n",
    "model.compile(optimizer=tf.keras.optimizers.Adam(learning_rate=0.001), \n",
    "              loss=tf.keras.losses.SparseCategoricalCrossentropy(),\n",
    "              metrics=['accuracy'])\n",
    "\n",
    "# Train the Model\n",
    "model.fit(train_ds, epochs=10)\n",
    "\n",
    "# Save Model\n",
    "model.save(\"movinet_football_highlight.h5\")\n"
   ]
  }
 ],
 "metadata": {
  "kernelspec": {
   "display_name": ".venv",
   "language": "python",
   "name": "python3"
  },
  "language_info": {
   "codemirror_mode": {
    "name": "ipython",
    "version": 3
   },
   "file_extension": ".py",
   "mimetype": "text/x-python",
   "name": "python",
   "nbconvert_exporter": "python",
   "pygments_lexer": "ipython3",
   "version": "3.10.11"
  }
 },
 "nbformat": 4,
 "nbformat_minor": 2
}

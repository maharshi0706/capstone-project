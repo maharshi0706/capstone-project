{
 "cells": [
  {
   "cell_type": "code",
   "execution_count": 13,
   "metadata": {},
   "outputs": [],
   "source": [
    "import os\n",
    "import cv2\n",
    "import shutil\n",
    "import random\n",
    "import numpy as np\n",
    "from tqdm import tqdm\n",
    "from pathlib import Path\n",
    "\n",
    "\n",
    "EVENT_CLIPS_DIR = \"../Dataset/Event_clips\"\n",
    "OUTPUT_DIR = \"../Dataset/split_data\"  \n",
    "AUGMENTED_DIR = \"../Dataset/augmented_event_clips\""
   ]
  },
  {
   "cell_type": "code",
   "execution_count": 6,
   "metadata": {},
   "outputs": [
    {
     "name": "stdout",
     "output_type": "stream",
     "text": [
      "Ball out of play: 275 clips\n",
      "Clearance: 247 clips\n",
      "Corner: 231 clips\n",
      "Direct free-kick: 210 clips\n",
      "Foul: 264 clips\n",
      "Goal: 148 clips\n",
      "Indirect free-kick: 259 clips\n",
      "Kick-off: 157 clips\n",
      "Offside: 178 clips\n",
      "Penalty: 25 clips\n",
      "Red card: 8 clips\n",
      "Shots off target: 232 clips\n",
      "Shots on target: 238 clips\n",
      "Substitution: 150 clips\n",
      "Throw-in: 267 clips\n",
      "Yellow card: 162 clips\n",
      "Yellow-_red card: 8 clips\n"
     ]
    }
   ],
   "source": [
    "event_counts = {}\n",
    "\n",
    "for event in os.listdir(EVENT_CLIPS_DIR):\n",
    "    event_folder = os.path.join(EVENT_CLIPS_DIR, event)\n",
    "    if os.path.isdir(event_folder):\n",
    "        num_clips = len([f for f in os.listdir(event_folder) if f.endswith(\".mp4\")])\n",
    "        event_counts[event] = num_clips\n",
    "\n",
    "# Print counts\n",
    "for event, count in event_counts.items():\n",
    "    print(f\"{event}: {count} clips\")\n"
   ]
  },
  {
   "cell_type": "code",
   "execution_count": 14,
   "metadata": {},
   "outputs": [
    {
     "name": "stderr",
     "output_type": "stream",
     "text": [
      "Augmenting Goal: 100%|██████████| 74/74 [07:16<00:00,  5.90s/it]\n",
      "Augmenting Kick-off: 100%|██████████| 78/78 [08:16<00:00,  6.37s/it]\n",
      "Augmenting Offside: 100%|██████████| 89/89 [09:39<00:00,  6.51s/it]\n",
      "Augmenting Penalty: 100%|██████████| 25/25 [11:37<00:00, 27.91s/it] \n",
      "Augmenting Red card: 100%|██████████| 8/8 [00:53<00:00,  6.71s/it]\n",
      "Augmenting Substitution: 100%|██████████| 75/75 [07:26<00:00,  5.95s/it]\n",
      "Augmenting Yellow card: 100%|██████████| 81/81 [06:35<00:00,  4.88s/it]\n",
      "Augmenting Yellow-_red card: 100%|██████████| 8/8 [00:31<00:00,  3.98s/it]"
     ]
    },
    {
     "name": "stdout",
     "output_type": "stream",
     "text": [
      "✅ Data augmentation complete.\n"
     ]
    },
    {
     "name": "stderr",
     "output_type": "stream",
     "text": [
      "\n"
     ]
    }
   ],
   "source": [
    "os.makedirs(AUGMENTED_DIR, exist_ok=True)\n",
    "\n",
    "# Events for augmentation\n",
    "high_aug_events = {\"Penalty\", \"Red card\", \"Yellow-_red card\"}  # Critically low clips\n",
    "mild_aug_events = {\"Goal\", \"Kick-off\", \"Offside\", \"Substitution\", \"Yellow card\"}  # Moderately low clips\n",
    "\n",
    "# OpenCV-based augmentations\n",
    "def flip_video(video_path, output_path):\n",
    "    cap = cv2.VideoCapture(video_path)\n",
    "    fourcc = cv2.VideoWriter_fourcc(*'mp4v')  # Codec\n",
    "    fps = cap.get(cv2.CAP_PROP_FPS)\n",
    "    width = int(cap.get(cv2.CAP_PROP_FRAME_WIDTH))\n",
    "    height = int(cap.get(cv2.CAP_PROP_FRAME_HEIGHT))\n",
    "    out = cv2.VideoWriter(output_path, fourcc, fps, (width, height))\n",
    "\n",
    "    while cap.isOpened():\n",
    "        ret, frame = cap.read()\n",
    "        if not ret:\n",
    "            break\n",
    "        flipped = cv2.flip(frame, 1)  # Flip horizontally\n",
    "        out.write(flipped)\n",
    "\n",
    "    cap.release()\n",
    "    out.release()\n",
    "\n",
    "\n",
    "def add_gaussian_noise(video_path, output_path):\n",
    "    cap = cv2.VideoCapture(video_path)\n",
    "    fourcc = cv2.VideoWriter_fourcc(*'mp4v')\n",
    "    fps = cap.get(cv2.CAP_PROP_FPS)\n",
    "    width = int(cap.get(cv2.CAP_PROP_FRAME_WIDTH))\n",
    "    height = int(cap.get(cv2.CAP_PROP_FRAME_HEIGHT))\n",
    "    out = cv2.VideoWriter(output_path, fourcc, fps, (width, height))\n",
    "\n",
    "    while cap.isOpened():\n",
    "        ret, frame = cap.read()\n",
    "        if not ret:\n",
    "            break\n",
    "        noise = np.random.normal(0, 25, frame.shape).astype(np.uint8)\n",
    "        noisy_frame = cv2.add(frame, noise)\n",
    "        out.write(noisy_frame)\n",
    "\n",
    "    cap.release()\n",
    "    out.release()\n",
    "\n",
    "\n",
    "def change_brightness(video_path, output_path, factor=1.2):\n",
    "    cap = cv2.VideoCapture(video_path)\n",
    "    fourcc = cv2.VideoWriter_fourcc(*'mp4v')\n",
    "    fps = cap.get(cv2.CAP_PROP_FPS)\n",
    "    width = int(cap.get(cv2.CAP_PROP_FRAME_WIDTH))\n",
    "    height = int(cap.get(cv2.CAP_PROP_FRAME_HEIGHT))\n",
    "    out = cv2.VideoWriter(output_path, fourcc, fps, (width, height))\n",
    "\n",
    "    while cap.isOpened():\n",
    "        ret, frame = cap.read()\n",
    "        if not ret:\n",
    "            break\n",
    "        brightened = np.clip(frame * factor, 0, 255).astype(np.uint8)\n",
    "        out.write(brightened)\n",
    "\n",
    "    cap.release()\n",
    "    out.release()\n",
    "\n",
    "\n",
    "# Apply augmentation\n",
    "def augment_videos(event_folder, event_name, intensity):\n",
    "    event_path = os.path.join(EVENT_CLIPS_DIR, event_folder)\n",
    "    output_path = os.path.join(AUGMENTED_DIR, event_folder)\n",
    "    os.makedirs(output_path, exist_ok=True)\n",
    "\n",
    "    video_files = [f for f in os.listdir(event_path) if f.endswith('.mp4')]\n",
    "    num_original = len(video_files)\n",
    "    num_needed = 2 * num_original if intensity == \"high\" else int(1.5 * num_original)\n",
    "\n",
    "    for _ in tqdm(range(num_needed - num_original), desc=f\"Augmenting {event_name}\"):\n",
    "        video_file = random.choice(video_files)\n",
    "        input_path = os.path.join(event_path, video_file)\n",
    "        output_file = f\"aug_{random.randint(1000, 9999)}_{video_file}\"\n",
    "        output_path_file = os.path.join(output_path, output_file)\n",
    "\n",
    "        aug_type = random.choice([\"flip\", \"noise\", \"brightness\"])\n",
    "        if aug_type == \"flip\":\n",
    "            flip_video(input_path, output_path_file)\n",
    "        elif aug_type == \"noise\":\n",
    "            add_gaussian_noise(input_path, output_path_file)\n",
    "        elif aug_type == \"brightness\":\n",
    "            change_brightness(input_path, output_path_file, factor=random.uniform(0.8, 1.2))\n",
    "\n",
    "\n",
    "# Perform augmentation\n",
    "for event in os.listdir(EVENT_CLIPS_DIR):\n",
    "    if event in high_aug_events:\n",
    "        augment_videos(event, event, \"high\")\n",
    "    elif event in mild_aug_events:\n",
    "        augment_videos(event, event, \"mild\")\n",
    "\n",
    "print(\"✅ Data augmentation complete.\")\n"
   ]
  },
  {
   "cell_type": "code",
   "execution_count": 15,
   "metadata": {},
   "outputs": [
    {
     "name": "stdout",
     "output_type": "stream",
     "text": [
      "✅ Augmented clips successfully merged into Event_clips.\n"
     ]
    }
   ],
   "source": [
    "# Merge augmented clips into original event clips directory\n",
    "for event in os.listdir(AUGMENTED_DIR):\n",
    "    event_aug_path = os.path.join(AUGMENTED_DIR, event)\n",
    "    event_orig_path = os.path.join(EVENT_CLIPS_DIR, event)\n",
    "\n",
    "    if not os.path.exists(event_orig_path):\n",
    "        os.makedirs(event_orig_path)\n",
    "\n",
    "    for file in os.listdir(event_aug_path):\n",
    "        src = os.path.join(event_aug_path, file)\n",
    "        dest = os.path.join(event_orig_path, file)\n",
    "        shutil.move(src, dest)  # Moves files instead of copying\n",
    "\n",
    "print(\"✅ Augmented clips successfully merged into Event_clips.\")\n"
   ]
  },
  {
   "cell_type": "code",
   "execution_count": 16,
   "metadata": {},
   "outputs": [
    {
     "name": "stdout",
     "output_type": "stream",
     "text": [
      "📂 Ball out of play: Train=192, Val=41, Test=42\n",
      "📂 Clearance: Train=172, Val=37, Test=38\n",
      "📂 Corner: Train=161, Val=34, Test=36\n",
      "📂 Direct free-kick: Train=147, Val=31, Test=32\n",
      "📂 Foul: Train=184, Val=39, Test=41\n",
      "📂 Goal: Train=155, Val=33, Test=34\n",
      "📂 Indirect free-kick: Train=181, Val=38, Test=40\n",
      "📂 Kick-off: Train=164, Val=35, Test=36\n",
      "📂 Offside: Train=186, Val=40, Test=41\n",
      "📂 Penalty: Train=35, Val=7, Test=8\n",
      "📂 Red card: Train=11, Val=2, Test=3\n",
      "📂 Shots off target: Train=162, Val=34, Test=36\n",
      "📂 Shots on target: Train=166, Val=35, Test=37\n",
      "📂 Substitution: Train=157, Val=33, Test=35\n",
      "📂 Throw-in: Train=186, Val=40, Test=41\n",
      "📂 Yellow card: Train=170, Val=36, Test=37\n",
      "📂 Yellow-_red card: Train=11, Val=2, Test=3\n",
      "\n",
      "✅ Data successfully split into train/val/test!\n"
     ]
    }
   ],
   "source": [
    "# Create Train, Validation, and Test Folders\n",
    "for split in [\"train\", \"val\", \"test\"]:\n",
    "    os.makedirs(os.path.join(OUTPUT_DIR, split), exist_ok=True)\n",
    "\n",
    "# Define Splitting Ratios\n",
    "train_ratio = 0.7\n",
    "val_ratio = 0.15\n",
    "test_ratio = 0.15\n",
    "\n",
    "# Iterate over each event folder\n",
    "for event in os.listdir(EVENT_CLIPS_DIR):\n",
    "    event_path = os.path.join(EVENT_CLIPS_DIR, event)\n",
    "    if not os.path.isdir(event_path):\n",
    "        continue  # Skip non-folder files\n",
    "\n",
    "    clips = list(Path(event_path).glob(\"*.mp4\"))  # Get all video clips\n",
    "    random.shuffle(clips)  # Shuffle clips randomly\n",
    "\n",
    "    # Compute split indices\n",
    "    total_clips = len(clips)\n",
    "    train_count = int(total_clips * train_ratio)\n",
    "    val_count = int(total_clips * val_ratio)\n",
    "\n",
    "    train_clips = clips[:train_count]\n",
    "    val_clips = clips[train_count:train_count + val_count]\n",
    "    test_clips = clips[train_count + val_count:]\n",
    "\n",
    "    # Move files to respective folders\n",
    "    for split, clips_set in zip([\"train\", \"val\", \"test\"], [train_clips, val_clips, test_clips]):\n",
    "        event_split_dir = os.path.join(OUTPUT_DIR, split, event)\n",
    "        os.makedirs(event_split_dir, exist_ok=True)  # Create event subfolder\n",
    "        \n",
    "        for clip in clips_set:\n",
    "            shutil.copy(clip, event_split_dir)  # Copy clip to split folder\n",
    "\n",
    "    print(f\"📂 {event}: Train={len(train_clips)}, Val={len(val_clips)}, Test={len(test_clips)}\")\n",
    "\n",
    "print(\"\\n✅ Data successfully split into train/val/test!\")\n"
   ]
  },
  {
   "cell_type": "code",
   "execution_count": null,
   "metadata": {},
   "outputs": [],
   "source": []
  }
 ],
 "metadata": {
  "kernelspec": {
   "display_name": ".venv",
   "language": "python",
   "name": "python3"
  },
  "language_info": {
   "codemirror_mode": {
    "name": "ipython",
    "version": 3
   },
   "file_extension": ".py",
   "mimetype": "text/x-python",
   "name": "python",
   "nbconvert_exporter": "python",
   "pygments_lexer": "ipython3",
   "version": "3.10.11"
  }
 },
 "nbformat": 4,
 "nbformat_minor": 2
}

{
 "cells": [
  {
   "cell_type": "code",
   "execution_count": 1,
   "metadata": {},
   "outputs": [],
   "source": [
    "import os\n",
    "import cv2\n",
    "import shutil\n",
    "import random\n",
    "import numpy as np\n",
    "from tqdm import tqdm\n",
    "from pathlib import Path\n",
    "\n",
    "\n",
    "EVENT_CLIPS_DIR = \"../Dataset/dataset_2/Event_clips\"\n",
    "OUTPUT_DIR = \"../Dataset/dataset_2/split_data_2\"  \n",
    "AUGMENTED_DIR = \"../Dataset/dataset_2/augmented_event_clips\""
   ]
  },
  {
   "cell_type": "code",
   "execution_count": 2,
   "metadata": {},
   "outputs": [
    {
     "name": "stdout",
     "output_type": "stream",
     "text": [
      "Ball out of play: 275 clips\n",
      "Clearance: 247 clips\n",
      "Corner: 231 clips\n",
      "Direct free-kick: 315 clips\n",
      "Foul: 264 clips\n",
      "Goal: 333 clips\n",
      "Indirect free-kick: 259 clips\n",
      "Kick-off: 352 clips\n",
      "Offside: 267 clips\n",
      "Shots off target: 348 clips\n",
      "Shots on target: 357 clips\n",
      "Substitution: 337 clips\n",
      "Throw-in: 267 clips\n",
      "Yellow card: 364 clips\n"
     ]
    }
   ],
   "source": [
    "event_counts = {}\n",
    "\n",
    "for event in os.listdir(EVENT_CLIPS_DIR):\n",
    "    event_folder = os.path.join(EVENT_CLIPS_DIR, event)\n",
    "    if os.path.isdir(event_folder):\n",
    "        num_clips = len([f for f in os.listdir(event_folder) if f.endswith(\".mp4\")])\n",
    "        event_counts[event] = num_clips\n",
    "\n",
    "# Print counts\n",
    "for event, count in event_counts.items():\n",
    "    print(f\"{event}: {count} clips\")\n"
   ]
  },
  {
   "cell_type": "code",
   "execution_count": 5,
   "metadata": {},
   "outputs": [
    {
     "name": "stderr",
     "output_type": "stream",
     "text": [
      "Augmenting Direct free-kick:   0%|          | 0/105 [00:00<?, ?it/s]"
     ]
    },
    {
     "name": "stderr",
     "output_type": "stream",
     "text": [
      "Augmenting Direct free-kick: 100%|██████████| 105/105 [14:06<00:00,  8.06s/it]\n",
      "Augmenting Goal: 100%|██████████| 111/111 [15:33<00:00,  8.41s/it]\n",
      "Augmenting Kick-off: 100%|██████████| 117/117 [16:01<00:00,  8.22s/it]\n",
      "Augmenting Shots off target: 100%|██████████| 116/116 [16:12<00:00,  8.39s/it]\n",
      "Augmenting Shots on target: 100%|██████████| 119/119 [13:55<00:00,  7.02s/it]\n",
      "Augmenting Substitution: 100%|██████████| 112/112 [13:46<00:00,  7.38s/it]\n",
      "Augmenting Yellow card: 100%|██████████| 121/121 [15:29<00:00,  7.68s/it]"
     ]
    },
    {
     "name": "stdout",
     "output_type": "stream",
     "text": [
      "✅ Data augmentation complete.\n"
     ]
    },
    {
     "name": "stderr",
     "output_type": "stream",
     "text": [
      "\n"
     ]
    }
   ],
   "source": [
    "os.makedirs(AUGMENTED_DIR, exist_ok=True)\n",
    "\n",
    "mild_aug_events = {\"Direct free-kick\", \"Goal\", \"Kick-off\", \"Shots off target\", \"Shots on target\", \"Substitution\", \"Yellow card\"}\n",
    "\n",
    "def flip_video(video_path, output_path):\n",
    "    cap = cv2.VideoCapture(video_path)\n",
    "    fourcc = cv2.VideoWriter_fourcc(*'mp4v') \n",
    "    fps = cap.get(cv2.CAP_PROP_FPS)\n",
    "    width = int(cap.get(cv2.CAP_PROP_FRAME_WIDTH))\n",
    "    height = int(cap.get(cv2.CAP_PROP_FRAME_HEIGHT))\n",
    "    out = cv2.VideoWriter(output_path, fourcc, fps, (width, height))\n",
    "\n",
    "    while cap.isOpened():\n",
    "        ret, frame = cap.read()\n",
    "        if not ret:\n",
    "            break\n",
    "        flipped = cv2.flip(frame, 1)  \n",
    "        out.write(flipped)\n",
    "\n",
    "    cap.release()\n",
    "    out.release()\n",
    "\n",
    "\n",
    "def add_gaussian_noise(video_path, output_path):\n",
    "    cap = cv2.VideoCapture(video_path)\n",
    "    fourcc = cv2.VideoWriter_fourcc(*'mp4v')\n",
    "    fps = cap.get(cv2.CAP_PROP_FPS)\n",
    "    width = int(cap.get(cv2.CAP_PROP_FRAME_WIDTH))\n",
    "    height = int(cap.get(cv2.CAP_PROP_FRAME_HEIGHT))\n",
    "    out = cv2.VideoWriter(output_path, fourcc, fps, (width, height))\n",
    "\n",
    "    while cap.isOpened():\n",
    "        ret, frame = cap.read()\n",
    "        if not ret:\n",
    "            break\n",
    "        noise = np.random.normal(0, 25, frame.shape).astype(np.uint8)\n",
    "        noisy_frame = cv2.add(frame, noise)\n",
    "        out.write(noisy_frame)\n",
    "\n",
    "    cap.release()\n",
    "    out.release()\n",
    "\n",
    "\n",
    "def change_brightness(video_path, output_path, factor=1.2):\n",
    "    cap = cv2.VideoCapture(video_path)\n",
    "    fourcc = cv2.VideoWriter_fourcc(*'mp4v')\n",
    "    fps = cap.get(cv2.CAP_PROP_FPS)\n",
    "    width = int(cap.get(cv2.CAP_PROP_FRAME_WIDTH))\n",
    "    height = int(cap.get(cv2.CAP_PROP_FRAME_HEIGHT))\n",
    "    out = cv2.VideoWriter(output_path, fourcc, fps, (width, height))\n",
    "\n",
    "    while cap.isOpened():\n",
    "        ret, frame = cap.read()\n",
    "        if not ret:\n",
    "            break\n",
    "        brightened = np.clip(frame * factor, 0, 255).astype(np.uint8)\n",
    "        out.write(brightened)\n",
    "\n",
    "    cap.release()\n",
    "    out.release()\n",
    "\n",
    "\n",
    "# Apply augmentation\n",
    "def augment_videos(event_folder, event_name, intensity):\n",
    "    event_path = os.path.join(EVENT_CLIPS_DIR, event_folder)\n",
    "    output_path = os.path.join(AUGMENTED_DIR, event_folder)\n",
    "    os.makedirs(output_path, exist_ok=True)\n",
    "\n",
    "    video_files = [f for f in os.listdir(event_path) if f.endswith('.mp4')]\n",
    "    num_original = len(video_files)\n",
    "    num_needed = 2 * num_original if intensity == \"high\" else int(1.5 * num_original)\n",
    "\n",
    "    for _ in tqdm(range(num_needed - num_original), desc=f\"Augmenting {event_name}\"):\n",
    "        video_file = random.choice(video_files)\n",
    "        input_path = os.path.join(event_path, video_file)\n",
    "        output_file = f\"aug_{random.randint(1000, 9999)}_{video_file}\"\n",
    "        output_path_file = os.path.join(output_path, output_file)\n",
    "\n",
    "        aug_type = random.choice([\"flip\", \"noise\", \"brightness\"])\n",
    "        if aug_type == \"flip\":\n",
    "            flip_video(input_path, output_path_file)\n",
    "        elif aug_type == \"noise\":\n",
    "            add_gaussian_noise(input_path, output_path_file)\n",
    "        elif aug_type == \"brightness\":\n",
    "            change_brightness(input_path, output_path_file, factor=random.uniform(0.8, 1.2))\n",
    "\n",
    "\n",
    "# Perform augmentation\n",
    "for event in os.listdir(EVENT_CLIPS_DIR): \n",
    "    if event in mild_aug_events:\n",
    "        augment_videos(event, event, \"mild\")\n",
    "    # elif event in mild_aug_events:\n",
    "    #     augment_videos(event, event, \"mild\")\n",
    "\n",
    "print(\"✅ Data augmentation complete.\")\n"
   ]
  },
  {
   "cell_type": "code",
   "execution_count": 2,
   "metadata": {},
   "outputs": [
    {
     "name": "stdout",
     "output_type": "stream",
     "text": [
      "✅ Augmented clips successfully merged into Event_clips.\n"
     ]
    }
   ],
   "source": [
    "# Merge augmented clips into original event clips directory\n",
    "for event in os.listdir(AUGMENTED_DIR):\n",
    "    event_aug_path = os.path.join(AUGMENTED_DIR, event)\n",
    "    event_orig_path = os.path.join(EVENT_CLIPS_DIR, event)\n",
    "\n",
    "    if not os.path.exists(event_orig_path):\n",
    "        os.makedirs(event_orig_path)\n",
    "\n",
    "    for file in os.listdir(event_aug_path):\n",
    "        src = os.path.join(event_aug_path, file)\n",
    "        dest = os.path.join(event_orig_path, file)\n",
    "        shutil.move(src, dest)  # Moves files instead of copying\n",
    "\n",
    "print(\"✅ Augmented clips successfully merged into Event_clips.\")\n"
   ]
  },
  {
   "cell_type": "code",
   "execution_count": 3,
   "metadata": {},
   "outputs": [
    {
     "name": "stdout",
     "output_type": "stream",
     "text": [
      " Corner: Train=161, Val=34, Test=36\n",
      " Direct free-kick: Train=220, Val=47, Test=48\n",
      " Foul: Train=184, Val=39, Test=41\n",
      " Goal: Train=233, Val=49, Test=51\n",
      " Indirect free-kick: Train=181, Val=38, Test=40\n",
      " Kick-off: Train=246, Val=52, Test=54\n",
      " Offside: Train=186, Val=40, Test=41\n",
      " Shots off target: Train=243, Val=52, Test=53\n",
      " Shots on target: Train=249, Val=53, Test=55\n",
      " Substitution: Train=235, Val=50, Test=52\n",
      " Throw-in: Train=186, Val=40, Test=41\n",
      " Yellow card: Train=254, Val=54, Test=56\n",
      "\n",
      " Data successfully split into train/val/test!\n"
     ]
    }
   ],
   "source": [
    "# Create Train, Validation, and Test Folders\n",
    "for split in [\"train\", \"val\", \"test\"]:\n",
    "    os.makedirs(os.path.join(OUTPUT_DIR, split), exist_ok=True)\n",
    "\n",
    "# Define Splitting Ratios\n",
    "train_ratio = 0.7\n",
    "val_ratio = 0.15\n",
    "test_ratio = 0.15\n",
    "\n",
    "# Iterate over each event folder\n",
    "for event in os.listdir(EVENT_CLIPS_DIR):\n",
    "    if event == 'Ball out of play' or event == 'Clearance':\n",
    "        continue\n",
    "    event_path = os.path.join(EVENT_CLIPS_DIR, event)\n",
    "    if not os.path.isdir(event_path):\n",
    "        continue  # Skip non-folder files\n",
    "\n",
    "    clips = list(Path(event_path).glob(\"*.mp4\"))  \n",
    "    random.shuffle(clips)  \n",
    "\n",
    "    # Compute split indices\n",
    "    total_clips = len(clips)\n",
    "    train_count = int(total_clips * train_ratio)\n",
    "    val_count = int(total_clips * val_ratio)\n",
    "\n",
    "    train_clips = clips[:train_count]\n",
    "    val_clips = clips[train_count:train_count + val_count]\n",
    "    test_clips = clips[train_count + val_count:]\n",
    "\n",
    "    # Move files to respective folders\n",
    "    for split, clips_set in zip([\"train\", \"val\", \"test\"], [train_clips, val_clips, test_clips]):\n",
    "        event_split_dir = os.path.join(OUTPUT_DIR, split, event)\n",
    "        os.makedirs(event_split_dir, exist_ok=True)  \n",
    "        \n",
    "        for clip in clips_set:\n",
    "            shutil.copy(clip, event_split_dir)  \n",
    "\n",
    "    print(f\" {event}: Train={len(train_clips)}, Val={len(val_clips)}, Test={len(test_clips)}\")\n",
    "\n",
    "print(\"\\n Data successfully split into train/val/test!\")\n"
   ]
  },
  {
   "cell_type": "code",
   "execution_count": null,
   "metadata": {},
   "outputs": [],
   "source": []
  }
 ],
 "metadata": {
  "kernelspec": {
   "display_name": "venv",
   "language": "python",
   "name": "python3"
  },
  "language_info": {
   "codemirror_mode": {
    "name": "ipython",
    "version": 3
   },
   "file_extension": ".py",
   "mimetype": "text/x-python",
   "name": "python",
   "nbconvert_exporter": "python",
   "pygments_lexer": "ipython3",
   "version": "3.10.11"
  }
 },
 "nbformat": 4,
 "nbformat_minor": 2
}

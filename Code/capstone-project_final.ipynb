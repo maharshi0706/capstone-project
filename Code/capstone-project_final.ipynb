{
 "cells": [
  {
   "cell_type": "code",
   "execution_count": 2,
   "id": "5831e806",
   "metadata": {
    "execution": {
     "iopub.execute_input": "2025-04-08T19:52:17.242415Z",
     "iopub.status.busy": "2025-04-08T19:52:17.242071Z",
     "iopub.status.idle": "2025-04-08T19:52:34.494546Z",
     "shell.execute_reply": "2025-04-08T19:52:34.493422Z"
    },
    "papermill": {
     "duration": 17.260587,
     "end_time": "2025-04-08T19:52:34.497180",
     "exception": false,
     "start_time": "2025-04-08T19:52:17.236593",
     "status": "completed"
    },
    "tags": []
   },
   "outputs": [
    {
     "ename": "ModuleNotFoundError",
     "evalue": "No module named 'tensorflow.keras.saving'",
     "output_type": "error",
     "traceback": [
      "\u001b[1;31m---------------------------------------------------------------------------\u001b[0m",
      "\u001b[1;31mModuleNotFoundError\u001b[0m                       Traceback (most recent call last)",
      "Cell \u001b[1;32mIn[2], line 10\u001b[0m\n\u001b[0;32m      8\u001b[0m \u001b[38;5;28;01mfrom\u001b[39;00m\u001b[38;5;250m \u001b[39m\u001b[38;5;21;01mtensorflow\u001b[39;00m\u001b[38;5;21;01m.\u001b[39;00m\u001b[38;5;21;01mkeras\u001b[39;00m\u001b[38;5;21;01m.\u001b[39;00m\u001b[38;5;21;01mmodels\u001b[39;00m\u001b[38;5;250m \u001b[39m\u001b[38;5;28;01mimport\u001b[39;00m load_model\n\u001b[0;32m      9\u001b[0m \u001b[38;5;28;01mfrom\u001b[39;00m\u001b[38;5;250m \u001b[39m\u001b[38;5;21;01mtensorflow\u001b[39;00m\u001b[38;5;21;01m.\u001b[39;00m\u001b[38;5;21;01mkeras\u001b[39;00m\u001b[38;5;21;01m.\u001b[39;00m\u001b[38;5;21;01mlayers\u001b[39;00m\u001b[38;5;250m \u001b[39m\u001b[38;5;28;01mimport\u001b[39;00m Lambda, Layer\n\u001b[1;32m---> 10\u001b[0m \u001b[38;5;28;01mfrom\u001b[39;00m\u001b[38;5;250m \u001b[39m\u001b[38;5;21;01mtensorflow\u001b[39;00m\u001b[38;5;21;01m.\u001b[39;00m\u001b[38;5;21;01mkeras\u001b[39;00m\u001b[38;5;21;01m.\u001b[39;00m\u001b[38;5;21;01msaving\u001b[39;00m\u001b[38;5;250m \u001b[39m\u001b[38;5;28;01mimport\u001b[39;00m register_keras_serializable\n\u001b[0;32m     11\u001b[0m \u001b[38;5;28;01mfrom\u001b[39;00m\u001b[38;5;250m \u001b[39m\u001b[38;5;21;01mtensorflow\u001b[39;00m\u001b[38;5;21;01m.\u001b[39;00m\u001b[38;5;21;01mkeras\u001b[39;00m\u001b[38;5;250m \u001b[39m\u001b[38;5;28;01mimport\u001b[39;00m layers,mixed_precision\n\u001b[0;32m     12\u001b[0m \u001b[38;5;28;01mfrom\u001b[39;00m\u001b[38;5;250m \u001b[39m\u001b[38;5;21;01msklearn\u001b[39;00m\u001b[38;5;21;01m.\u001b[39;00m\u001b[38;5;21;01mutils\u001b[39;00m\u001b[38;5;21;01m.\u001b[39;00m\u001b[38;5;21;01mclass_weight\u001b[39;00m\u001b[38;5;250m \u001b[39m\u001b[38;5;28;01mimport\u001b[39;00m compute_class_weight\n",
      "\u001b[1;31mModuleNotFoundError\u001b[0m: No module named 'tensorflow.keras.saving'"
     ]
    }
   ],
   "source": [
    "import os\n",
    "import cv2\n",
    "import numpy as np\n",
    "import tensorflow as tf\n",
    "import tensorflow_hub as hub\n",
    "from tensorflow import keras\n",
    "import matplotlib.pyplot as plt\n",
    "from tensorflow.keras.models import load_model\n",
    "from tensorflow.keras.layers import Lambda, Layer\n",
    "from tensorflow.keras.saving import register_keras_serializable\n",
    "from tensorflow.keras import layers,mixed_precision\n",
    "from sklearn.utils.class_weight import compute_class_weight\n",
    "from sklearn.metrics import confusion_matrix, ConfusionMatrixDisplay\n",
    "from tensorflow.keras.callbacks import ReduceLROnPlateau, Callback, EarlyStopping"
   ]
  },
  {
   "cell_type": "code",
   "execution_count": 2,
   "id": "4f5e34c9",
   "metadata": {
    "execution": {
     "iopub.execute_input": "2025-04-08T19:52:34.509085Z",
     "iopub.status.busy": "2025-04-08T19:52:34.508252Z",
     "iopub.status.idle": "2025-04-08T19:52:35.230389Z",
     "shell.execute_reply": "2025-04-08T19:52:35.229359Z"
    },
    "papermill": {
     "duration": 0.728878,
     "end_time": "2025-04-08T19:52:35.232113",
     "exception": false,
     "start_time": "2025-04-08T19:52:34.503235",
     "status": "completed"
    },
    "tags": []
   },
   "outputs": [
    {
     "name": "stdout",
     "output_type": "stream",
     "text": [
      "TensorFlow version: 2.17.1\n",
      "GPU Available: [PhysicalDevice(name='/physical_device:GPU:0', device_type='GPU')]\n"
     ]
    }
   ],
   "source": [
    "mixed_precision.set_global_policy('mixed_float16')\n",
    "print(\"TensorFlow version:\", tf.__version__)\n",
    "print(\"GPU Available:\", tf.config.list_physical_devices('GPU'))\n"
   ]
  },
  {
   "cell_type": "code",
   "execution_count": 3,
   "id": "a949b56b",
   "metadata": {
    "execution": {
     "iopub.execute_input": "2025-04-08T19:52:35.240712Z",
     "iopub.status.busy": "2025-04-08T19:52:35.240324Z",
     "iopub.status.idle": "2025-04-08T19:52:35.246378Z",
     "shell.execute_reply": "2025-04-08T19:52:35.245362Z"
    },
    "papermill": {
     "duration": 0.012277,
     "end_time": "2025-04-08T19:52:35.248327",
     "exception": false,
     "start_time": "2025-04-08T19:52:35.236050",
     "status": "completed"
    },
    "tags": []
   },
   "outputs": [
    {
     "name": "stdout",
     "output_type": "stream",
     "text": [
      "✅ GPU setup complete.\n"
     ]
    }
   ],
   "source": [
    "def setup_gpu():\n",
    "    gpus = tf.config.experimental.list_physical_devices('GPU')\n",
    "    if gpus:\n",
    "        for gpu in gpus:\n",
    "            tf.config.experimental.set_memory_growth(gpu, True)\n",
    "    print(\"✅ GPU setup complete.\")\n",
    "setup_gpu()"
   ]
  },
  {
   "cell_type": "code",
   "execution_count": 4,
   "id": "cb1c7059",
   "metadata": {
    "execution": {
     "iopub.execute_input": "2025-04-08T19:52:35.262306Z",
     "iopub.status.busy": "2025-04-08T19:52:35.261891Z",
     "iopub.status.idle": "2025-04-08T19:52:35.265946Z",
     "shell.execute_reply": "2025-04-08T19:52:35.264932Z"
    },
    "papermill": {
     "duration": 0.012961,
     "end_time": "2025-04-08T19:52:35.267679",
     "exception": false,
     "start_time": "2025-04-08T19:52:35.254718",
     "status": "completed"
    },
    "tags": []
   },
   "outputs": [],
   "source": [
    "# # Load and preprocess .mp4 videos\n",
    "# def load_video(video_path, max_frames=30, target_size=(224, 224)):\n",
    "#     cap = cv2.VideoCapture(video_path.numpy().decode(\"utf-8\"))\n",
    "#     frames = []\n",
    "    \n",
    "#     for _ in range(max_frames):\n",
    "#         ret, frame = cap.read()\n",
    "#         if not ret:\n",
    "#             break\n",
    "#         frame = cv2.resize(frame, target_size)  # Resize for MoViNet\n",
    "#         frame = frame / 255.0  # Normalize pixels\n",
    "#         frames.append(frame)\n",
    "\n",
    "#     cap.release()\n",
    "\n",
    "#     # Pad if fewer than max_frames\n",
    "#     while len(frames) < max_frames:\n",
    "#         frames.append(np.zeros(target_size + (3,)))\n",
    "\n",
    "#     return np.array(frames, dtype=np.float32)"
   ]
  },
  {
   "cell_type": "code",
   "execution_count": 5,
   "id": "2a449600",
   "metadata": {
    "execution": {
     "iopub.execute_input": "2025-04-08T19:52:35.281816Z",
     "iopub.status.busy": "2025-04-08T19:52:35.281476Z",
     "iopub.status.idle": "2025-04-08T19:52:35.288813Z",
     "shell.execute_reply": "2025-04-08T19:52:35.287831Z"
    },
    "papermill": {
     "duration": 0.016421,
     "end_time": "2025-04-08T19:52:35.290766",
     "exception": false,
     "start_time": "2025-04-08T19:52:35.274345",
     "status": "completed"
    },
    "tags": []
   },
   "outputs": [],
   "source": [
    "def load_video(video_path, max_frames=30, target_size=(224, 224), augment=False):\n",
    "    cap = cv2.VideoCapture(video_path.numpy().decode(\"utf-8\"))\n",
    "    frames = []\n",
    "\n",
    "    for _ in range(max_frames):\n",
    "        ret, frame = cap.read()\n",
    "        if not ret:\n",
    "            break\n",
    "        frame = cv2.resize(frame, target_size)\n",
    "        frame = frame / 255.0  # Normalize to [0,1]\n",
    "\n",
    "        if augment:\n",
    "            # Horizontal flip\n",
    "            if np.random.rand() < 0.5:\n",
    "                frame = cv2.flip(frame, 1)\n",
    "\n",
    "            # Brightness adjustment\n",
    "            if np.random.rand() < 0.5:\n",
    "                factor = 0.8 + 0.4 * np.random.rand()  # [0.8, 1.2]\n",
    "                frame = np.clip(frame * factor, 0, 1)\n",
    "\n",
    "        frames.append(frame)\n",
    "\n",
    "    cap.release()\n",
    "\n",
    "    # Pad if fewer than max_frames\n",
    "    while len(frames) < max_frames:\n",
    "        frames.append(np.zeros(target_size + (3,), dtype=np.float32))\n",
    "\n",
    "    # Random temporal jitter: select a slice\n",
    "    if augment and len(frames) > max_frames:\n",
    "        start = np.random.randint(0, len(frames) - max_frames)\n",
    "        frames = frames[start:start + max_frames]\n",
    "    else:\n",
    "        frames = frames[:max_frames]\n",
    "\n",
    "    return np.array(frames, dtype=np.float32)\n"
   ]
  },
  {
   "cell_type": "code",
   "execution_count": 6,
   "id": "44dcf5bd",
   "metadata": {
    "execution": {
     "iopub.execute_input": "2025-04-08T19:52:35.304640Z",
     "iopub.status.busy": "2025-04-08T19:52:35.304325Z",
     "iopub.status.idle": "2025-04-08T19:52:35.311981Z",
     "shell.execute_reply": "2025-04-08T19:52:35.310969Z"
    },
    "papermill": {
     "duration": 0.016087,
     "end_time": "2025-04-08T19:52:35.313666",
     "exception": false,
     "start_time": "2025-04-08T19:52:35.297579",
     "status": "completed"
    },
    "tags": []
   },
   "outputs": [],
   "source": [
    "def get_class_names(data_dir):\n",
    "    class_names = sorted([\n",
    "        folder for folder in os.listdir(data_dir)\n",
    "        if os.path.isdir(os.path.join(data_dir, folder))\n",
    "    ])\n",
    "    print(\"Label Mapping (index → class):\")\n",
    "    for idx, name in enumerate(class_names):\n",
    "        print(f\"{idx:2d} → {name}\")\n",
    "    return class_names\n",
    "\n",
    "\n",
    "def create_dataset(directory, batch_size, augment=False):\n",
    "    video_paths = []\n",
    "    labels = []\n",
    "\n",
    "    for idx, class_name in enumerate(class_names):\n",
    "        class_dir = os.path.join(directory, class_name)\n",
    "        for f in os.listdir(class_dir):\n",
    "            if f.endswith(\".mp4\"):\n",
    "                video_paths.append(os.path.join(class_dir, f))\n",
    "                labels.append(idx)\n",
    "\n",
    "    dataset = tf.data.Dataset.from_tensor_slices((video_paths, labels))\n",
    "\n",
    "    def _parse_function(filename, label):\n",
    "        # video = tf.py_function(load_video, [filename], tf.float32)\n",
    "        video = tf.py_function(lambda f: load_video(f, augment=augment), [filename], tf.float32)\n",
    "        video.set_shape([30, 224, 224, 3])\n",
    "        return video, label\n",
    "\n",
    "    dataset = dataset.map(_parse_function, num_parallel_calls=tf.data.AUTOTUNE)\n",
    "    dataset = dataset.shuffle(100).batch(batch_size).prefetch(tf.data.AUTOTUNE)\n",
    "    return dataset\n"
   ]
  },
  {
   "cell_type": "code",
   "execution_count": 7,
   "id": "f066cc19",
   "metadata": {
    "execution": {
     "iopub.execute_input": "2025-04-08T19:52:35.322644Z",
     "iopub.status.busy": "2025-04-08T19:52:35.322340Z",
     "iopub.status.idle": "2025-04-08T19:52:36.524477Z",
     "shell.execute_reply": "2025-04-08T19:52:36.523367Z"
    },
    "papermill": {
     "duration": 1.208756,
     "end_time": "2025-04-08T19:52:36.526413",
     "exception": false,
     "start_time": "2025-04-08T19:52:35.317657",
     "status": "completed"
    },
    "tags": []
   },
   "outputs": [
    {
     "name": "stdout",
     "output_type": "stream",
     "text": [
      "Label Mapping (index → class):\n",
      " 0 → Ball out of play\n",
      " 1 → Clearance\n",
      " 2 → Corner\n",
      " 3 → Direct free-kick\n",
      " 4 → Foul\n",
      " 5 → Goal\n",
      " 6 → Indirect free-kick\n",
      " 7 → Kick-off\n",
      " 8 → Offside\n",
      " 9 → Penalty\n",
      "10 → Red card\n",
      "11 → Shots off target\n",
      "12 → Shots on target\n",
      "13 → Substitution\n",
      "14 → Throw-in\n",
      "15 → Yellow card\n",
      "16 → Yellow-_red card\n"
     ]
    }
   ],
   "source": [
    "class_names = get_class_names(\"/kaggle/input/capstone-dataset/split_data/train\")\n",
    "num_classes = len(class_names)\n",
    "\n",
    "train_data = create_dataset(\"/kaggle/input/capstone-dataset/split_data/train\", batch_size=16, augment=True)\n",
    "val_data = create_dataset(\"/kaggle/input/capstone-dataset/split_data/val\", batch_size=16, augment=False)\n",
    "test_data = create_dataset(\"/kaggle/input/capstone-dataset/split_data/test\", batch_size=16, augment=False)"
   ]
  },
  {
   "cell_type": "code",
   "execution_count": 8,
   "id": "97460986",
   "metadata": {
    "execution": {
     "iopub.execute_input": "2025-04-08T19:52:36.535325Z",
     "iopub.status.busy": "2025-04-08T19:52:36.535015Z",
     "iopub.status.idle": "2025-04-08T19:52:36.554520Z",
     "shell.execute_reply": "2025-04-08T19:52:36.553673Z"
    },
    "papermill": {
     "duration": 0.025943,
     "end_time": "2025-04-08T19:52:36.556326",
     "exception": false,
     "start_time": "2025-04-08T19:52:36.530383",
     "status": "completed"
    },
    "tags": []
   },
   "outputs": [],
   "source": [
    "# Flatten all training labels\n",
    "train_labels = []\n",
    "for idx, cls in enumerate(class_names):\n",
    "    count = len(os.listdir(os.path.join(\"/kaggle/input/capstone-dataset/split_data/train\", cls)))\n",
    "    train_labels += [idx] * count\n",
    "\n",
    "# Compute balanced class weights\n",
    "weights = compute_class_weight(class_weight=\"balanced\", classes=np.arange(len(class_names)), y=train_labels)\n",
    "class_weights = {i: w for i, w in enumerate(weights)}"
   ]
  },
  {
   "cell_type": "code",
   "execution_count": 9,
   "id": "b7eb057b",
   "metadata": {
    "execution": {
     "iopub.execute_input": "2025-04-08T19:52:36.565296Z",
     "iopub.status.busy": "2025-04-08T19:52:36.564994Z",
     "iopub.status.idle": "2025-04-08T19:52:36.570112Z",
     "shell.execute_reply": "2025-04-08T19:52:36.569289Z"
    },
    "papermill": {
     "duration": 0.011216,
     "end_time": "2025-04-08T19:52:36.571514",
     "exception": false,
     "start_time": "2025-04-08T19:52:36.560298",
     "status": "completed"
    },
    "tags": []
   },
   "outputs": [],
   "source": [
    "class SaveEveryNEpochs(Callback):\n",
    "    def __init__(self, save_dir='checkpoints', interval=5):\n",
    "        super().__init__()\n",
    "        self.save_dir = save_dir\n",
    "        self.interval = interval\n",
    "        os.makedirs(save_dir, exist_ok=True)\n",
    "\n",
    "    def on_epoch_end(self, epoch, logs=None):\n",
    "        if (epoch + 1) % self.interval == 0:\n",
    "            file_path = os.path.join(self.save_dir, f'model_epoch_{epoch + 1}.h5')\n",
    "            self.model.save(file_path)\n",
    "            print(f\"Model saved at: {file_path}\")\n"
   ]
  },
  {
   "cell_type": "code",
   "execution_count": 10,
   "id": "a01dac28",
   "metadata": {
    "execution": {
     "iopub.execute_input": "2025-04-08T19:52:36.580327Z",
     "iopub.status.busy": "2025-04-08T19:52:36.580035Z",
     "iopub.status.idle": "2025-04-08T19:52:36.587215Z",
     "shell.execute_reply": "2025-04-08T19:52:36.586224Z"
    },
    "papermill": {
     "duration": 0.013183,
     "end_time": "2025-04-08T19:52:36.588682",
     "exception": false,
     "start_time": "2025-04-08T19:52:36.575499",
     "status": "completed"
    },
    "tags": []
   },
   "outputs": [],
   "source": [
    "# Load MoViNet-A3 from TensorFlow Hub\n",
    "model_id = 'a3'\n",
    "mode = 'base'\n",
    "version = '3'\n",
    "model_url = f\"https://tfhub.dev/tensorflow/movinet/{model_id}/{mode}/kinetics-600/classification/{version}\"\n",
    "\n",
    "\n",
    "\n",
    "# class MoViNetFeatureExtractor(tf.keras.layers.Layer):\n",
    "#     def __init__(self, hub_url, trainable=False):\n",
    "#         super().__init__()\n",
    "#         self.movinet_layer = hub.KerasLayer(hub_url, trainable=trainable)\n",
    "\n",
    "#     def call(self, inputs):\n",
    "#         # Expecting input of shape (None, 30, 224, 224, 3)\n",
    "#         return self.movinet_layer({'image': inputs})\n",
    "\n",
    "@register_keras_serializable()\n",
    "class MoViNetFeatureExtractor(Layer):\n",
    "    def __init__(self, hub_url, **kwargs):\n",
    "        super().__init__(**kwargs)\n",
    "        self.hub_url = hub_url\n",
    "        self.feature_extractor = hub.KerasLayer(hub_url, trainable=True)\n",
    "\n",
    "    def call(self, inputs):\n",
    "        return self.feature_extractor({\"image\": inputs})\n",
    "\n",
    "    def get_config(self):\n",
    "        config = super().get_config()\n",
    "        config.update({\n",
    "            'hub_url': self.hub_url,\n",
    "        })\n",
    "        return config\n",
    "\n",
    "    @classmethod\n",
    "    def from_config(cls, config):\n",
    "        return cls(**config)\n",
    "        \n",
    "lr_callback = ReduceLROnPlateau (\n",
    "    monitor='val_loss',\n",
    "    factor=0.5,\n",
    "    patience=3,\n",
    "    verbose=1,\n",
    "    min_lr=1e-6\n",
    ")\n",
    "\n",
    "save_callback = SaveEveryNEpochs(save_dir='/kaggle/working/checkpoints', interval=5)\n",
    "\n",
    "earlystop_callback = EarlyStopping(\n",
    "    monitor='val_loss',\n",
    "    patience=5,             \n",
    "    restore_best_weights=True,\n",
    "    verbose=1\n",
    ")\n"
   ]
  },
  {
   "cell_type": "code",
   "execution_count": 11,
   "id": "252ce8cb",
   "metadata": {
    "execution": {
     "iopub.execute_input": "2025-04-08T19:52:36.597440Z",
     "iopub.status.busy": "2025-04-08T19:52:36.597141Z",
     "iopub.status.idle": "2025-04-08T19:52:36.600544Z",
     "shell.execute_reply": "2025-04-08T19:52:36.599717Z"
    },
    "papermill": {
     "duration": 0.009354,
     "end_time": "2025-04-08T19:52:36.601989",
     "exception": false,
     "start_time": "2025-04-08T19:52:36.592635",
     "status": "completed"
    },
    "tags": []
   },
   "outputs": [],
   "source": [
    "# inputs = keras.Input(shape=(30, 224, 224, 3), name=\"input_video\")\n",
    "\n",
    "# x = MoViNetFeatureExtractor(model_url,trainable=True)(inputs)\n",
    "\n",
    "# x = layers.Dense(512, activation='relu')(x)\n",
    "# x = layers.Dropout(0.3)(x)\n",
    "# x = layers.Dense(256, activation='relu')(x)\n",
    "# x = layers.Dropout(0.2)(x)\n",
    "\n",
    "# outputs = layers.Dense(num_classes, activation='softmax', dtype = 'float32')(x)\n",
    "\n",
    "\n",
    "# model = keras.Model(inputs=inputs, outputs=outputs)\n",
    "# model.summary()\n",
    "\n",
    "# model.compile(\n",
    "#     optimizer=keras.optimizers.Adam(learning_rate=1e-4),\n",
    "#     loss=\"sparse_categorical_crossentropy\",\n",
    "#     metrics=[\"accuracy\"]\n",
    "# )\n"
   ]
  },
  {
   "cell_type": "code",
   "execution_count": 12,
   "id": "98904981",
   "metadata": {
    "execution": {
     "iopub.execute_input": "2025-04-08T19:52:36.611295Z",
     "iopub.status.busy": "2025-04-08T19:52:36.610961Z",
     "iopub.status.idle": "2025-04-08T19:53:03.397076Z",
     "shell.execute_reply": "2025-04-08T19:53:03.395962Z"
    },
    "papermill": {
     "duration": 26.792916,
     "end_time": "2025-04-08T19:53:03.398984",
     "exception": false,
     "start_time": "2025-04-08T19:52:36.606068",
     "status": "completed"
    },
    "tags": []
   },
   "outputs": [],
   "source": [
    "inputs = tf.keras.Input(shape=(30, 224, 224, 3), name='input_video')\n",
    "\n",
    "\n",
    "x = MoViNetFeatureExtractor(model_url, trainable=True)(inputs)\n",
    "x = tf.keras.layers.Dense(512, activation='relu')(x)\n",
    "x = tf.keras.layers.Dropout(0.5)(x)\n",
    "x = tf.keras.layers.Dense(256, activation='relu')(x)\n",
    "x = tf.keras.layers.Dropout(0.3)(x)\n",
    "outputs = tf.keras.layers.Dense(17, activation='softmax')(x)\n",
    "\n",
    "model = tf.keras.Model(inputs, outputs)\n",
    "\n",
    "# Load weights from the .h5 file\n",
    "# model = load_model('/kaggle/input/capstone_model_90/keras/default/1/movinet_final_model (1).keras',\n",
    "#                    custom_objects={'MoViNetFeatureExtractor': MoViNetFeatureExtractor})\n",
    "model.load_weights('/kaggle/input/capstone_model_140/keras/default/1/movinet_140_model.keras')\n",
    "\n",
    "model.compile(\n",
    "    optimizer=keras.optimizers.Adam(learning_rate=1e-5),\n",
    "    loss=\"sparse_categorical_crossentropy\",\n",
    "    metrics=[\"accuracy\"]\n",
    ")\n"
   ]
  },
  {
   "cell_type": "code",
   "execution_count": 13,
   "id": "fdb72be0",
   "metadata": {
    "execution": {
     "iopub.execute_input": "2025-04-08T19:53:03.408739Z",
     "iopub.status.busy": "2025-04-08T19:53:03.408412Z",
     "iopub.status.idle": "2025-04-09T01:55:47.102147Z",
     "shell.execute_reply": "2025-04-09T01:55:47.101259Z"
    },
    "papermill": {
     "duration": 21763.984744,
     "end_time": "2025-04-09T01:55:47.388031",
     "exception": false,
     "start_time": "2025-04-08T19:53:03.403287",
     "status": "completed"
    },
    "tags": []
   },
   "outputs": [
    {
     "name": "stdout",
     "output_type": "stream",
     "text": [
      "Epoch 1/60\n",
      "\u001b[1m153/153\u001b[0m \u001b[32m━━━━━━━━━━━━━━━━━━━━\u001b[0m\u001b[37m\u001b[0m \u001b[1m1052s\u001b[0m 5s/step - accuracy: 0.2856 - loss: 2.2839 - val_accuracy: 0.3269 - val_loss: 2.1592 - learning_rate: 1.0000e-05\n",
      "Epoch 2/60\n",
      "\u001b[1m153/153\u001b[0m \u001b[32m━━━━━━━━━━━━━━━━━━━━\u001b[0m\u001b[37m\u001b[0m \u001b[1m368s\u001b[0m 2s/step - accuracy: 0.3045 - loss: 2.1047 - val_accuracy: 0.3191 - val_loss: 2.1612 - learning_rate: 1.0000e-05\n",
      "Epoch 3/60\n",
      "\u001b[1m153/153\u001b[0m \u001b[32m━━━━━━━━━━━━━━━━━━━━\u001b[0m\u001b[37m\u001b[0m \u001b[1m368s\u001b[0m 2s/step - accuracy: 0.3130 - loss: 1.9903 - val_accuracy: 0.3308 - val_loss: 2.1664 - learning_rate: 1.0000e-05\n",
      "Epoch 4/60\n",
      "\u001b[1m153/153\u001b[0m \u001b[32m━━━━━━━━━━━━━━━━━━━━\u001b[0m\u001b[37m\u001b[0m \u001b[1m0s\u001b[0m 2s/step - accuracy: 0.3333 - loss: 1.9806\n",
      "Epoch 4: ReduceLROnPlateau reducing learning rate to 4.999999873689376e-06.\n",
      "\u001b[1m153/153\u001b[0m \u001b[32m━━━━━━━━━━━━━━━━━━━━\u001b[0m\u001b[37m\u001b[0m \u001b[1m363s\u001b[0m 2s/step - accuracy: 0.3333 - loss: 1.9832 - val_accuracy: 0.3308 - val_loss: 2.1720 - learning_rate: 1.0000e-05\n",
      "Epoch 5/60\n",
      "\u001b[1m153/153\u001b[0m \u001b[32m━━━━━━━━━━━━━━━━━━━━\u001b[0m\u001b[37m\u001b[0m \u001b[1m0s\u001b[0m 2s/step - accuracy: 0.3185 - loss: 1.9640Model saved at: /kaggle/working/checkpoints/model_epoch_5.h5\n",
      "\u001b[1m153/153\u001b[0m \u001b[32m━━━━━━━━━━━━━━━━━━━━\u001b[0m\u001b[37m\u001b[0m \u001b[1m386s\u001b[0m 2s/step - accuracy: 0.3185 - loss: 1.9662 - val_accuracy: 0.3230 - val_loss: 2.1744 - learning_rate: 5.0000e-06\n",
      "Epoch 6/60\n",
      "\u001b[1m153/153\u001b[0m \u001b[32m━━━━━━━━━━━━━━━━━━━━\u001b[0m\u001b[37m\u001b[0m \u001b[1m369s\u001b[0m 2s/step - accuracy: 0.3109 - loss: 1.9277 - val_accuracy: 0.3211 - val_loss: 2.1771 - learning_rate: 5.0000e-06\n",
      "Epoch 7/60\n",
      "\u001b[1m153/153\u001b[0m \u001b[32m━━━━━━━━━━━━━━━━━━━━\u001b[0m\u001b[37m\u001b[0m \u001b[1m0s\u001b[0m 2s/step - accuracy: 0.3127 - loss: 1.8574\n",
      "Epoch 7: ReduceLROnPlateau reducing learning rate to 2.499999936844688e-06.\n",
      "\u001b[1m153/153\u001b[0m \u001b[32m━━━━━━━━━━━━━━━━━━━━\u001b[0m\u001b[37m\u001b[0m \u001b[1m372s\u001b[0m 2s/step - accuracy: 0.3127 - loss: 1.8589 - val_accuracy: 0.3153 - val_loss: 2.1795 - learning_rate: 5.0000e-06\n",
      "Epoch 8/60\n",
      "\u001b[1m153/153\u001b[0m \u001b[32m━━━━━━━━━━━━━━━━━━━━\u001b[0m\u001b[37m\u001b[0m \u001b[1m366s\u001b[0m 2s/step - accuracy: 0.3265 - loss: 1.8570 - val_accuracy: 0.3133 - val_loss: 2.1806 - learning_rate: 2.5000e-06\n",
      "Epoch 9/60\n",
      "\u001b[1m153/153\u001b[0m \u001b[32m━━━━━━━━━━━━━━━━━━━━\u001b[0m\u001b[37m\u001b[0m \u001b[1m371s\u001b[0m 2s/step - accuracy: 0.3101 - loss: 1.8585 - val_accuracy: 0.3133 - val_loss: 2.1819 - learning_rate: 2.5000e-06\n",
      "Epoch 10/60\n",
      "\u001b[1m153/153\u001b[0m \u001b[32m━━━━━━━━━━━━━━━━━━━━\u001b[0m\u001b[37m\u001b[0m \u001b[1m0s\u001b[0m 2s/step - accuracy: 0.2895 - loss: 1.9138\n",
      "Epoch 10: ReduceLROnPlateau reducing learning rate to 1.249999968422344e-06.\n",
      "Model saved at: /kaggle/working/checkpoints/model_epoch_10.h5\n",
      "\u001b[1m153/153\u001b[0m \u001b[32m━━━━━━━━━━━━━━━━━━━━\u001b[0m\u001b[37m\u001b[0m \u001b[1m366s\u001b[0m 2s/step - accuracy: 0.2896 - loss: 1.9151 - val_accuracy: 0.3153 - val_loss: 2.1831 - learning_rate: 2.5000e-06\n",
      "Epoch 11/60\n",
      "\u001b[1m153/153\u001b[0m \u001b[32m━━━━━━━━━━━━━━━━━━━━\u001b[0m\u001b[37m\u001b[0m \u001b[1m372s\u001b[0m 2s/step - accuracy: 0.3364 - loss: 1.8502 - val_accuracy: 0.3133 - val_loss: 2.1839 - learning_rate: 1.2500e-06\n",
      "Epoch 12/60\n",
      "\u001b[1m153/153\u001b[0m \u001b[32m━━━━━━━━━━━━━━━━━━━━\u001b[0m\u001b[37m\u001b[0m \u001b[1m367s\u001b[0m 2s/step - accuracy: 0.3108 - loss: 1.8178 - val_accuracy: 0.3133 - val_loss: 2.1845 - learning_rate: 1.2500e-06\n",
      "Epoch 13/60\n",
      "\u001b[1m153/153\u001b[0m \u001b[32m━━━━━━━━━━━━━━━━━━━━\u001b[0m\u001b[37m\u001b[0m \u001b[1m0s\u001b[0m 2s/step - accuracy: 0.3340 - loss: 1.8425\n",
      "Epoch 13: ReduceLROnPlateau reducing learning rate to 1e-06.\n",
      "\u001b[1m153/153\u001b[0m \u001b[32m━━━━━━━━━━━━━━━━━━━━\u001b[0m\u001b[37m\u001b[0m \u001b[1m365s\u001b[0m 2s/step - accuracy: 0.3340 - loss: 1.8437 - val_accuracy: 0.3153 - val_loss: 2.1853 - learning_rate: 1.2500e-06\n",
      "Epoch 14/60\n",
      "\u001b[1m153/153\u001b[0m \u001b[32m━━━━━━━━━━━━━━━━━━━━\u001b[0m\u001b[37m\u001b[0m \u001b[1m369s\u001b[0m 2s/step - accuracy: 0.3157 - loss: 1.8892 - val_accuracy: 0.3153 - val_loss: 2.1860 - learning_rate: 1.0000e-06\n",
      "Epoch 15/60\n",
      "\u001b[1m153/153\u001b[0m \u001b[32m━━━━━━━━━━━━━━━━━━━━\u001b[0m\u001b[37m\u001b[0m \u001b[1m0s\u001b[0m 2s/step - accuracy: 0.3195 - loss: 1.7949Model saved at: /kaggle/working/checkpoints/model_epoch_15.h5\n",
      "\u001b[1m153/153\u001b[0m \u001b[32m━━━━━━━━━━━━━━━━━━━━\u001b[0m\u001b[37m\u001b[0m \u001b[1m369s\u001b[0m 2s/step - accuracy: 0.3196 - loss: 1.7962 - val_accuracy: 0.3153 - val_loss: 2.1866 - learning_rate: 1.0000e-06\n",
      "Epoch 16/60\n",
      "\u001b[1m153/153\u001b[0m \u001b[32m━━━━━━━━━━━━━━━━━━━━\u001b[0m\u001b[37m\u001b[0m \u001b[1m368s\u001b[0m 2s/step - accuracy: 0.3159 - loss: 1.8661 - val_accuracy: 0.3153 - val_loss: 2.1871 - learning_rate: 1.0000e-06\n",
      "Epoch 17/60\n",
      "\u001b[1m153/153\u001b[0m \u001b[32m━━━━━━━━━━━━━━━━━━━━\u001b[0m\u001b[37m\u001b[0m \u001b[1m366s\u001b[0m 2s/step - accuracy: 0.3244 - loss: 1.8835 - val_accuracy: 0.3153 - val_loss: 2.1875 - learning_rate: 1.0000e-06\n",
      "Epoch 18/60\n",
      "\u001b[1m153/153\u001b[0m \u001b[32m━━━━━━━━━━━━━━━━━━━━\u001b[0m\u001b[37m\u001b[0m \u001b[1m367s\u001b[0m 2s/step - accuracy: 0.3165 - loss: 1.8636 - val_accuracy: 0.3153 - val_loss: 2.1880 - learning_rate: 1.0000e-06\n",
      "Epoch 19/60\n",
      "\u001b[1m153/153\u001b[0m \u001b[32m━━━━━━━━━━━━━━━━━━━━\u001b[0m\u001b[37m\u001b[0m \u001b[1m367s\u001b[0m 2s/step - accuracy: 0.2984 - loss: 1.8947 - val_accuracy: 0.3133 - val_loss: 2.1887 - learning_rate: 1.0000e-06\n",
      "Epoch 20/60\n",
      "\u001b[1m153/153\u001b[0m \u001b[32m━━━━━━━━━━━━━━━━━━━━\u001b[0m\u001b[37m\u001b[0m \u001b[1m0s\u001b[0m 2s/step - accuracy: 0.3201 - loss: 1.8325Model saved at: /kaggle/working/checkpoints/model_epoch_20.h5\n",
      "\u001b[1m153/153\u001b[0m \u001b[32m━━━━━━━━━━━━━━━━━━━━\u001b[0m\u001b[37m\u001b[0m \u001b[1m367s\u001b[0m 2s/step - accuracy: 0.3202 - loss: 1.8337 - val_accuracy: 0.3133 - val_loss: 2.1891 - learning_rate: 1.0000e-06\n",
      "Epoch 21/60\n",
      "\u001b[1m153/153\u001b[0m \u001b[32m━━━━━━━━━━━━━━━━━━━━\u001b[0m\u001b[37m\u001b[0m \u001b[1m368s\u001b[0m 2s/step - accuracy: 0.3083 - loss: 1.8227 - val_accuracy: 0.3133 - val_loss: 2.1897 - learning_rate: 1.0000e-06\n",
      "Epoch 22/60\n",
      "\u001b[1m153/153\u001b[0m \u001b[32m━━━━━━━━━━━━━━━━━━━━\u001b[0m\u001b[37m\u001b[0m \u001b[1m362s\u001b[0m 2s/step - accuracy: 0.3189 - loss: 1.8162 - val_accuracy: 0.3114 - val_loss: 2.1901 - learning_rate: 1.0000e-06\n",
      "Epoch 23/60\n",
      "\u001b[1m153/153\u001b[0m \u001b[32m━━━━━━━━━━━━━━━━━━━━\u001b[0m\u001b[37m\u001b[0m \u001b[1m367s\u001b[0m 2s/step - accuracy: 0.3151 - loss: 1.8275 - val_accuracy: 0.3114 - val_loss: 2.1906 - learning_rate: 1.0000e-06\n",
      "Epoch 24/60\n",
      "\u001b[1m153/153\u001b[0m \u001b[32m━━━━━━━━━━━━━━━━━━━━\u001b[0m\u001b[37m\u001b[0m \u001b[1m357s\u001b[0m 2s/step - accuracy: 0.3141 - loss: 1.8527 - val_accuracy: 0.3114 - val_loss: 2.1910 - learning_rate: 1.0000e-06\n",
      "Epoch 25/60\n",
      "\u001b[1m153/153\u001b[0m \u001b[32m━━━━━━━━━━━━━━━━━━━━\u001b[0m\u001b[37m\u001b[0m \u001b[1m0s\u001b[0m 2s/step - accuracy: 0.3153 - loss: 1.8075Model saved at: /kaggle/working/checkpoints/model_epoch_25.h5\n",
      "\u001b[1m153/153\u001b[0m \u001b[32m━━━━━━━━━━━━━━━━━━━━\u001b[0m\u001b[37m\u001b[0m \u001b[1m357s\u001b[0m 2s/step - accuracy: 0.3154 - loss: 1.8086 - val_accuracy: 0.3133 - val_loss: 2.1916 - learning_rate: 1.0000e-06\n",
      "Epoch 26/60\n",
      "\u001b[1m153/153\u001b[0m \u001b[32m━━━━━━━━━━━━━━━━━━━━\u001b[0m\u001b[37m\u001b[0m \u001b[1m362s\u001b[0m 2s/step - accuracy: 0.3139 - loss: 1.8209 - val_accuracy: 0.3133 - val_loss: 2.1921 - learning_rate: 1.0000e-06\n",
      "Epoch 27/60\n",
      "\u001b[1m153/153\u001b[0m \u001b[32m━━━━━━━━━━━━━━━━━━━━\u001b[0m\u001b[37m\u001b[0m \u001b[1m359s\u001b[0m 2s/step - accuracy: 0.3022 - loss: 1.8376 - val_accuracy: 0.3095 - val_loss: 2.1924 - learning_rate: 1.0000e-06\n",
      "Epoch 28/60\n",
      "\u001b[1m153/153\u001b[0m \u001b[32m━━━━━━━━━━━━━━━━━━━━\u001b[0m\u001b[37m\u001b[0m \u001b[1m380s\u001b[0m 2s/step - accuracy: 0.3369 - loss: 1.7989 - val_accuracy: 0.3114 - val_loss: 2.1930 - learning_rate: 1.0000e-06\n",
      "Epoch 29/60\n",
      "\u001b[1m153/153\u001b[0m \u001b[32m━━━━━━━━━━━━━━━━━━━━\u001b[0m\u001b[37m\u001b[0m \u001b[1m352s\u001b[0m 2s/step - accuracy: 0.2960 - loss: 1.8791 - val_accuracy: 0.3114 - val_loss: 2.1934 - learning_rate: 1.0000e-06\n",
      "Epoch 30/60\n",
      "\u001b[1m153/153\u001b[0m \u001b[32m━━━━━━━━━━━━━━━━━━━━\u001b[0m\u001b[37m\u001b[0m \u001b[1m0s\u001b[0m 2s/step - accuracy: 0.3345 - loss: 1.7793Model saved at: /kaggle/working/checkpoints/model_epoch_30.h5\n",
      "\u001b[1m153/153\u001b[0m \u001b[32m━━━━━━━━━━━━━━━━━━━━\u001b[0m\u001b[37m\u001b[0m \u001b[1m352s\u001b[0m 2s/step - accuracy: 0.3345 - loss: 1.7807 - val_accuracy: 0.3095 - val_loss: 2.1939 - learning_rate: 1.0000e-06\n",
      "Epoch 31/60\n",
      "\u001b[1m153/153\u001b[0m \u001b[32m━━━━━━━━━━━━━━━━━━━━\u001b[0m\u001b[37m\u001b[0m \u001b[1m347s\u001b[0m 2s/step - accuracy: 0.3102 - loss: 1.8410 - val_accuracy: 0.3114 - val_loss: 2.1945 - learning_rate: 1.0000e-06\n",
      "Epoch 32/60\n",
      "\u001b[1m153/153\u001b[0m \u001b[32m━━━━━━━━━━━━━━━━━━━━\u001b[0m\u001b[37m\u001b[0m \u001b[1m376s\u001b[0m 2s/step - accuracy: 0.3280 - loss: 1.8063 - val_accuracy: 0.3114 - val_loss: 2.1949 - learning_rate: 1.0000e-06\n",
      "Epoch 33/60\n",
      "\u001b[1m153/153\u001b[0m \u001b[32m━━━━━━━━━━━━━━━━━━━━\u001b[0m\u001b[37m\u001b[0m \u001b[1m341s\u001b[0m 2s/step - accuracy: 0.3184 - loss: 1.8371 - val_accuracy: 0.3114 - val_loss: 2.1951 - learning_rate: 1.0000e-06\n",
      "Epoch 34/60\n",
      "\u001b[1m153/153\u001b[0m \u001b[32m━━━━━━━━━━━━━━━━━━━━\u001b[0m\u001b[37m\u001b[0m \u001b[1m345s\u001b[0m 2s/step - accuracy: 0.2984 - loss: 1.8064 - val_accuracy: 0.3114 - val_loss: 2.1955 - learning_rate: 1.0000e-06\n",
      "Epoch 35/60\n",
      "\u001b[1m153/153\u001b[0m \u001b[32m━━━━━━━━━━━━━━━━━━━━\u001b[0m\u001b[37m\u001b[0m \u001b[1m0s\u001b[0m 2s/step - accuracy: 0.3167 - loss: 1.8097Model saved at: /kaggle/working/checkpoints/model_epoch_35.h5\n",
      "\u001b[1m153/153\u001b[0m \u001b[32m━━━━━━━━━━━━━━━━━━━━\u001b[0m\u001b[37m\u001b[0m \u001b[1m340s\u001b[0m 2s/step - accuracy: 0.3168 - loss: 1.8110 - val_accuracy: 0.3153 - val_loss: 2.1956 - learning_rate: 1.0000e-06\n",
      "Epoch 36/60\n",
      "\u001b[1m153/153\u001b[0m \u001b[32m━━━━━━━━━━━━━━━━━━━━\u001b[0m\u001b[37m\u001b[0m \u001b[1m339s\u001b[0m 2s/step - accuracy: 0.3259 - loss: 1.8740 - val_accuracy: 0.3133 - val_loss: 2.1963 - learning_rate: 1.0000e-06\n",
      "Epoch 37/60\n",
      "\u001b[1m153/153\u001b[0m \u001b[32m━━━━━━━━━━━━━━━━━━━━\u001b[0m\u001b[37m\u001b[0m \u001b[1m342s\u001b[0m 2s/step - accuracy: 0.3136 - loss: 1.7866 - val_accuracy: 0.3133 - val_loss: 2.1967 - learning_rate: 1.0000e-06\n",
      "Epoch 38/60\n",
      "\u001b[1m153/153\u001b[0m \u001b[32m━━━━━━━━━━━━━━━━━━━━\u001b[0m\u001b[37m\u001b[0m \u001b[1m377s\u001b[0m 2s/step - accuracy: 0.3209 - loss: 1.8138 - val_accuracy: 0.3114 - val_loss: 2.1972 - learning_rate: 1.0000e-06\n",
      "Epoch 39/60\n",
      "\u001b[1m153/153\u001b[0m \u001b[32m━━━━━━━━━━━━━━━━━━━━\u001b[0m\u001b[37m\u001b[0m \u001b[1m338s\u001b[0m 2s/step - accuracy: 0.3028 - loss: 1.8127 - val_accuracy: 0.3114 - val_loss: 2.1976 - learning_rate: 1.0000e-06\n",
      "Epoch 40/60\n",
      "\u001b[1m153/153\u001b[0m \u001b[32m━━━━━━━━━━━━━━━━━━━━\u001b[0m\u001b[37m\u001b[0m \u001b[1m0s\u001b[0m 2s/step - accuracy: 0.3219 - loss: 1.7962Model saved at: /kaggle/working/checkpoints/model_epoch_40.h5\n",
      "\u001b[1m153/153\u001b[0m \u001b[32m━━━━━━━━━━━━━━━━━━━━\u001b[0m\u001b[37m\u001b[0m \u001b[1m334s\u001b[0m 2s/step - accuracy: 0.3221 - loss: 1.7972 - val_accuracy: 0.3114 - val_loss: 2.1979 - learning_rate: 1.0000e-06\n",
      "Epoch 41/60\n",
      "\u001b[1m153/153\u001b[0m \u001b[32m━━━━━━━━━━━━━━━━━━━━\u001b[0m\u001b[37m\u001b[0m \u001b[1m382s\u001b[0m 2s/step - accuracy: 0.3115 - loss: 1.8365 - val_accuracy: 0.3114 - val_loss: 2.1982 - learning_rate: 1.0000e-06\n",
      "Epoch 42/60\n",
      "\u001b[1m153/153\u001b[0m \u001b[32m━━━━━━━━━━━━━━━━━━━━\u001b[0m\u001b[37m\u001b[0m \u001b[1m345s\u001b[0m 2s/step - accuracy: 0.3147 - loss: 1.7709 - val_accuracy: 0.3114 - val_loss: 2.1984 - learning_rate: 1.0000e-06\n",
      "Epoch 43/60\n",
      "\u001b[1m153/153\u001b[0m \u001b[32m━━━━━━━━━━━━━━━━━━━━\u001b[0m\u001b[37m\u001b[0m \u001b[1m334s\u001b[0m 2s/step - accuracy: 0.3113 - loss: 1.8308 - val_accuracy: 0.3095 - val_loss: 2.1987 - learning_rate: 1.0000e-06\n",
      "Epoch 44/60\n",
      "\u001b[1m153/153\u001b[0m \u001b[32m━━━━━━━━━━━━━━━━━━━━\u001b[0m\u001b[37m\u001b[0m \u001b[1m331s\u001b[0m 2s/step - accuracy: 0.3400 - loss: 1.7660 - val_accuracy: 0.3095 - val_loss: 2.1988 - learning_rate: 1.0000e-06\n",
      "Epoch 45/60\n",
      "\u001b[1m153/153\u001b[0m \u001b[32m━━━━━━━━━━━━━━━━━━━━\u001b[0m\u001b[37m\u001b[0m \u001b[1m0s\u001b[0m 2s/step - accuracy: 0.3384 - loss: 1.7713Model saved at: /kaggle/working/checkpoints/model_epoch_45.h5\n",
      "\u001b[1m153/153\u001b[0m \u001b[32m━━━━━━━━━━━━━━━━━━━━\u001b[0m\u001b[37m\u001b[0m \u001b[1m335s\u001b[0m 2s/step - accuracy: 0.3384 - loss: 1.7724 - val_accuracy: 0.3095 - val_loss: 2.1993 - learning_rate: 1.0000e-06\n",
      "Epoch 46/60\n",
      "\u001b[1m153/153\u001b[0m \u001b[32m━━━━━━━━━━━━━━━━━━━━\u001b[0m\u001b[37m\u001b[0m \u001b[1m325s\u001b[0m 2s/step - accuracy: 0.3179 - loss: 1.7746 - val_accuracy: 0.3095 - val_loss: 2.1994 - learning_rate: 1.0000e-06\n",
      "Epoch 47/60\n",
      "\u001b[1m153/153\u001b[0m \u001b[32m━━━━━━━━━━━━━━━━━━━━\u001b[0m\u001b[37m\u001b[0m \u001b[1m328s\u001b[0m 2s/step - accuracy: 0.3436 - loss: 1.7481 - val_accuracy: 0.3095 - val_loss: 2.1996 - learning_rate: 1.0000e-06\n",
      "Epoch 48/60\n",
      "\u001b[1m153/153\u001b[0m \u001b[32m━━━━━━━━━━━━━━━━━━━━\u001b[0m\u001b[37m\u001b[0m \u001b[1m361s\u001b[0m 2s/step - accuracy: 0.3287 - loss: 1.7723 - val_accuracy: 0.3095 - val_loss: 2.2001 - learning_rate: 1.0000e-06\n",
      "Epoch 49/60\n",
      "\u001b[1m153/153\u001b[0m \u001b[32m━━━━━━━━━━━━━━━━━━━━\u001b[0m\u001b[37m\u001b[0m \u001b[1m340s\u001b[0m 2s/step - accuracy: 0.3265 - loss: 1.7847 - val_accuracy: 0.3095 - val_loss: 2.2004 - learning_rate: 1.0000e-06\n",
      "Epoch 50/60\n",
      "\u001b[1m153/153\u001b[0m \u001b[32m━━━━━━━━━━━━━━━━━━━━\u001b[0m\u001b[37m\u001b[0m \u001b[1m0s\u001b[0m 2s/step - accuracy: 0.3272 - loss: 1.7944Model saved at: /kaggle/working/checkpoints/model_epoch_50.h5\n",
      "\u001b[1m153/153\u001b[0m \u001b[32m━━━━━━━━━━━━━━━━━━━━\u001b[0m\u001b[37m\u001b[0m \u001b[1m322s\u001b[0m 2s/step - accuracy: 0.3272 - loss: 1.7953 - val_accuracy: 0.3075 - val_loss: 2.2010 - learning_rate: 1.0000e-06\n",
      "Epoch 51/60\n",
      "\u001b[1m153/153\u001b[0m \u001b[32m━━━━━━━━━━━━━━━━━━━━\u001b[0m\u001b[37m\u001b[0m \u001b[1m328s\u001b[0m 2s/step - accuracy: 0.3193 - loss: 1.8001 - val_accuracy: 0.3075 - val_loss: 2.2010 - learning_rate: 1.0000e-06\n",
      "Epoch 52/60\n",
      "\u001b[1m153/153\u001b[0m \u001b[32m━━━━━━━━━━━━━━━━━━━━\u001b[0m\u001b[37m\u001b[0m \u001b[1m324s\u001b[0m 2s/step - accuracy: 0.3120 - loss: 1.7905 - val_accuracy: 0.3075 - val_loss: 2.2011 - learning_rate: 1.0000e-06\n",
      "Epoch 53/60\n",
      "\u001b[1m153/153\u001b[0m \u001b[32m━━━━━━━━━━━━━━━━━━━━\u001b[0m\u001b[37m\u001b[0m \u001b[1m321s\u001b[0m 2s/step - accuracy: 0.3086 - loss: 1.7777 - val_accuracy: 0.3075 - val_loss: 2.2013 - learning_rate: 1.0000e-06\n",
      "Epoch 54/60\n",
      "\u001b[1m153/153\u001b[0m \u001b[32m━━━━━━━━━━━━━━━━━━━━\u001b[0m\u001b[37m\u001b[0m \u001b[1m320s\u001b[0m 2s/step - accuracy: 0.3131 - loss: 1.7818 - val_accuracy: 0.3075 - val_loss: 2.2017 - learning_rate: 1.0000e-06\n",
      "Epoch 55/60\n",
      "\u001b[1m153/153\u001b[0m \u001b[32m━━━━━━━━━━━━━━━━━━━━\u001b[0m\u001b[37m\u001b[0m \u001b[1m0s\u001b[0m 2s/step - accuracy: 0.3148 - loss: 1.7522Model saved at: /kaggle/working/checkpoints/model_epoch_55.h5\n",
      "\u001b[1m153/153\u001b[0m \u001b[32m━━━━━━━━━━━━━━━━━━━━\u001b[0m\u001b[37m\u001b[0m \u001b[1m320s\u001b[0m 2s/step - accuracy: 0.3149 - loss: 1.7530 - val_accuracy: 0.3075 - val_loss: 2.2018 - learning_rate: 1.0000e-06\n",
      "Epoch 56/60\n",
      "\u001b[1m153/153\u001b[0m \u001b[32m━━━━━━━━━━━━━━━━━━━━\u001b[0m\u001b[37m\u001b[0m \u001b[1m320s\u001b[0m 2s/step - accuracy: 0.3081 - loss: 1.7971 - val_accuracy: 0.3075 - val_loss: 2.2021 - learning_rate: 1.0000e-06\n",
      "Epoch 57/60\n",
      "\u001b[1m153/153\u001b[0m \u001b[32m━━━━━━━━━━━━━━━━━━━━\u001b[0m\u001b[37m\u001b[0m \u001b[1m317s\u001b[0m 2s/step - accuracy: 0.3115 - loss: 1.7905 - val_accuracy: 0.3075 - val_loss: 2.2022 - learning_rate: 1.0000e-06\n",
      "Epoch 58/60\n",
      "\u001b[1m153/153\u001b[0m \u001b[32m━━━━━━━━━━━━━━━━━━━━\u001b[0m\u001b[37m\u001b[0m \u001b[1m321s\u001b[0m 2s/step - accuracy: 0.3242 - loss: 1.8069 - val_accuracy: 0.3095 - val_loss: 2.2022 - learning_rate: 1.0000e-06\n",
      "Epoch 59/60\n",
      "\u001b[1m153/153\u001b[0m \u001b[32m━━━━━━━━━━━━━━━━━━━━\u001b[0m\u001b[37m\u001b[0m \u001b[1m321s\u001b[0m 2s/step - accuracy: 0.3186 - loss: 1.8508 - val_accuracy: 0.3095 - val_loss: 2.2025 - learning_rate: 1.0000e-06\n",
      "Epoch 60/60\n",
      "\u001b[1m153/153\u001b[0m \u001b[32m━━━━━━━━━━━━━━━━━━━━\u001b[0m\u001b[37m\u001b[0m \u001b[1m0s\u001b[0m 2s/step - accuracy: 0.3354 - loss: 1.7510Model saved at: /kaggle/working/checkpoints/model_epoch_60.h5\n",
      "\u001b[1m153/153\u001b[0m \u001b[32m━━━━━━━━━━━━━━━━━━━━\u001b[0m\u001b[37m\u001b[0m \u001b[1m317s\u001b[0m 2s/step - accuracy: 0.3355 - loss: 1.7520 - val_accuracy: 0.3095 - val_loss: 2.2028 - learning_rate: 1.0000e-06\n"
     ]
    }
   ],
   "source": [
    "model.fit(\n",
    "    train_data,\n",
    "    validation_data=val_data,\n",
    "    epochs=60,\n",
    "    class_weight=class_weights,\n",
    "    callbacks=[lr_callback,save_callback]\n",
    ")\n",
    "\n",
    "model.save(\"movinet_final_model.keras\")"
   ]
  },
  {
   "cell_type": "code",
   "execution_count": 14,
   "id": "5b82cde1",
   "metadata": {
    "execution": {
     "iopub.execute_input": "2025-04-09T01:55:48.240421Z",
     "iopub.status.busy": "2025-04-09T01:55:48.240005Z",
     "iopub.status.idle": "2025-04-09T01:58:51.964760Z",
     "shell.execute_reply": "2025-04-09T01:58:51.963937Z"
    },
    "papermill": {
     "duration": 184.575913,
     "end_time": "2025-04-09T01:58:52.389945",
     "exception": false,
     "start_time": "2025-04-09T01:55:47.814032",
     "status": "completed"
    },
    "tags": []
   },
   "outputs": [
    {
     "name": "stdout",
     "output_type": "stream",
     "text": [
      "\u001b[1m34/34\u001b[0m \u001b[32m━━━━━━━━━━━━━━━━━━━━\u001b[0m\u001b[37m\u001b[0m \u001b[1m184s\u001b[0m 5s/step - accuracy: 0.2861 - loss: 2.3006\n",
      "Test Accuracy: 32.22%\n"
     ]
    }
   ],
   "source": [
    "loss, acc = model.evaluate(test_data)\n",
    "print(f\"Test Accuracy: {acc * 100:.2f}%\")"
   ]
  },
  {
   "cell_type": "code",
   "execution_count": 15,
   "id": "8cc1136c",
   "metadata": {
    "execution": {
     "iopub.execute_input": "2025-04-09T01:58:53.238728Z",
     "iopub.status.busy": "2025-04-09T01:58:53.238393Z",
     "iopub.status.idle": "2025-04-09T02:04:21.040570Z",
     "shell.execute_reply": "2025-04-09T02:04:21.039751Z"
    },
    "papermill": {
     "duration": 328.229116,
     "end_time": "2025-04-09T02:04:21.042387",
     "exception": false,
     "start_time": "2025-04-09T01:58:52.813271",
     "status": "completed"
    },
    "tags": []
   },
   "outputs": [
    {
     "name": "stdout",
     "output_type": "stream",
     "text": [
      "\u001b[1m1/1\u001b[0m \u001b[32m━━━━━━━━━━━━━━━━━━━━\u001b[0m\u001b[37m\u001b[0m \u001b[1m149s\u001b[0m 149s/step\n",
      "\u001b[1m1/1\u001b[0m \u001b[32m━━━━━━━━━━━━━━━━━━━━\u001b[0m\u001b[37m\u001b[0m \u001b[1m1s\u001b[0m 861ms/step\n",
      "\u001b[1m1/1\u001b[0m \u001b[32m━━━━━━━━━━━━━━━━━━━━\u001b[0m\u001b[37m\u001b[0m \u001b[1m1s\u001b[0m 835ms/step\n",
      "\u001b[1m1/1\u001b[0m \u001b[32m━━━━━━━━━━━━━━━━━━━━\u001b[0m\u001b[37m\u001b[0m \u001b[1m1s\u001b[0m 703ms/step\n",
      "\u001b[1m1/1\u001b[0m \u001b[32m━━━━━━━━━━━━━━━━━━━━\u001b[0m\u001b[37m\u001b[0m \u001b[1m1s\u001b[0m 805ms/step\n",
      "\u001b[1m1/1\u001b[0m \u001b[32m━━━━━━━━━━━━━━━━━━━━\u001b[0m\u001b[37m\u001b[0m \u001b[1m1s\u001b[0m 748ms/step\n",
      "\u001b[1m1/1\u001b[0m \u001b[32m━━━━━━━━━━━━━━━━━━━━\u001b[0m\u001b[37m\u001b[0m \u001b[1m1s\u001b[0m 1s/step   \n",
      "\u001b[1m1/1\u001b[0m \u001b[32m━━━━━━━━━━━━━━━━━━━━\u001b[0m\u001b[37m\u001b[0m \u001b[1m1s\u001b[0m 688ms/step\n",
      "\u001b[1m1/1\u001b[0m \u001b[32m━━━━━━━━━━━━━━━━━━━━\u001b[0m\u001b[37m\u001b[0m \u001b[1m1s\u001b[0m 1s/step\n",
      "\u001b[1m1/1\u001b[0m \u001b[32m━━━━━━━━━━━━━━━━━━━━\u001b[0m\u001b[37m\u001b[0m \u001b[1m1s\u001b[0m 714ms/step\n",
      "\u001b[1m1/1\u001b[0m \u001b[32m━━━━━━━━━━━━━━━━━━━━\u001b[0m\u001b[37m\u001b[0m \u001b[1m1s\u001b[0m 963ms/step\n",
      "\u001b[1m1/1\u001b[0m \u001b[32m━━━━━━━━━━━━━━━━━━━━\u001b[0m\u001b[37m\u001b[0m \u001b[1m1s\u001b[0m 816ms/step\n",
      "\u001b[1m1/1\u001b[0m \u001b[32m━━━━━━━━━━━━━━━━━━━━\u001b[0m\u001b[37m\u001b[0m \u001b[1m1s\u001b[0m 592ms/step\n",
      "\u001b[1m1/1\u001b[0m \u001b[32m━━━━━━━━━━━━━━━━━━━━\u001b[0m\u001b[37m\u001b[0m \u001b[1m1s\u001b[0m 658ms/step\n",
      "\u001b[1m1/1\u001b[0m \u001b[32m━━━━━━━━━━━━━━━━━━━━\u001b[0m\u001b[37m\u001b[0m \u001b[1m1s\u001b[0m 657ms/step\n",
      "\u001b[1m1/1\u001b[0m \u001b[32m━━━━━━━━━━━━━━━━━━━━\u001b[0m\u001b[37m\u001b[0m \u001b[1m1s\u001b[0m 777ms/step\n",
      "\u001b[1m1/1\u001b[0m \u001b[32m━━━━━━━━━━━━━━━━━━━━\u001b[0m\u001b[37m\u001b[0m \u001b[1m1s\u001b[0m 689ms/step\n",
      "\u001b[1m1/1\u001b[0m \u001b[32m━━━━━━━━━━━━━━━━━━━━\u001b[0m\u001b[37m\u001b[0m \u001b[1m1s\u001b[0m 676ms/step\n",
      "\u001b[1m1/1\u001b[0m \u001b[32m━━━━━━━━━━━━━━━━━━━━\u001b[0m\u001b[37m\u001b[0m \u001b[1m1s\u001b[0m 682ms/step\n",
      "\u001b[1m1/1\u001b[0m \u001b[32m━━━━━━━━━━━━━━━━━━━━\u001b[0m\u001b[37m\u001b[0m \u001b[1m1s\u001b[0m 1s/step\n",
      "\u001b[1m1/1\u001b[0m \u001b[32m━━━━━━━━━━━━━━━━━━━━\u001b[0m\u001b[37m\u001b[0m \u001b[1m1s\u001b[0m 775ms/step\n",
      "\u001b[1m1/1\u001b[0m \u001b[32m━━━━━━━━━━━━━━━━━━━━\u001b[0m\u001b[37m\u001b[0m \u001b[1m1s\u001b[0m 783ms/step\n",
      "\u001b[1m1/1\u001b[0m \u001b[32m━━━━━━━━━━━━━━━━━━━━\u001b[0m\u001b[37m\u001b[0m \u001b[1m1s\u001b[0m 1s/step   \n",
      "\u001b[1m1/1\u001b[0m \u001b[32m━━━━━━━━━━━━━━━━━━━━\u001b[0m\u001b[37m\u001b[0m \u001b[1m1s\u001b[0m 971ms/step\n",
      "\u001b[1m1/1\u001b[0m \u001b[32m━━━━━━━━━━━━━━━━━━━━\u001b[0m\u001b[37m\u001b[0m \u001b[1m1s\u001b[0m 739ms/step\n",
      "\u001b[1m1/1\u001b[0m \u001b[32m━━━━━━━━━━━━━━━━━━━━\u001b[0m\u001b[37m\u001b[0m \u001b[1m1s\u001b[0m 731ms/step\n",
      "\u001b[1m1/1\u001b[0m \u001b[32m━━━━━━━━━━━━━━━━━━━━\u001b[0m\u001b[37m\u001b[0m \u001b[1m1s\u001b[0m 566ms/step\n",
      "\u001b[1m1/1\u001b[0m \u001b[32m━━━━━━━━━━━━━━━━━━━━\u001b[0m\u001b[37m\u001b[0m \u001b[1m0s\u001b[0m 382ms/step\n",
      "\u001b[1m1/1\u001b[0m \u001b[32m━━━━━━━━━━━━━━━━━━━━\u001b[0m\u001b[37m\u001b[0m \u001b[1m0s\u001b[0m 379ms/step\n",
      "\u001b[1m1/1\u001b[0m \u001b[32m━━━━━━━━━━━━━━━━━━━━\u001b[0m\u001b[37m\u001b[0m \u001b[1m0s\u001b[0m 377ms/step\n",
      "\u001b[1m1/1\u001b[0m \u001b[32m━━━━━━━━━━━━━━━━━━━━\u001b[0m\u001b[37m\u001b[0m \u001b[1m0s\u001b[0m 382ms/step\n",
      "\u001b[1m1/1\u001b[0m \u001b[32m━━━━━━━━━━━━━━━━━━━━\u001b[0m\u001b[37m\u001b[0m \u001b[1m0s\u001b[0m 363ms/step\n",
      "\u001b[1m1/1\u001b[0m \u001b[32m━━━━━━━━━━━━━━━━━━━━\u001b[0m\u001b[37m\u001b[0m \u001b[1m0s\u001b[0m 355ms/step\n",
      "\u001b[1m1/1\u001b[0m \u001b[32m━━━━━━━━━━━━━━━━━━━━\u001b[0m\u001b[37m\u001b[0m \u001b[1m115s\u001b[0m 115s/step\n"
     ]
    },
    {
     "data": {
      "text/plain": [
       "<Figure size 1200x800 with 0 Axes>"
      ]
     },
     "metadata": {},
     "output_type": "display_data"
    },
    {
     "data": {
      "image/png": "[encoded data removed]",
      "text/plain": [
       "<Figure size 640x480 with 2 Axes>"
      ]
     },
     "metadata": {},
     "output_type": "display_data"
    }
   ],
   "source": [
    "y_true = []\n",
    "y_pred = []\n",
    "\n",
    "for x_batch, y_batch in test_data:\n",
    "    preds = model.predict(x_batch)\n",
    "    y_true.extend(y_batch.numpy())  \n",
    "    y_pred.extend(np.argmax(preds, axis=1))\n",
    "\n",
    "# Create confusion matrix\n",
    "cm = confusion_matrix(y_true, y_pred)\n",
    "disp = ConfusionMatrixDisplay(confusion_matrix=cm, display_labels=class_names)\n",
    "\n",
    "# Plot and save confusion matrix\n",
    "plt.figure(figsize=(12, 8))\n",
    "disp.plot(xticks_rotation=45, cmap='Blues', values_format='d')\n",
    "plt.title(\"Confusion Matrix\")\n",
    "plt.tight_layout()\n",
    "plt.savefig(\"confusion_matrix.png\", dpi=300)\n",
    "plt.show()"
   ]
  }
 ],
 "metadata": {
  "kaggle": {
   "accelerator": "gpu",
   "dataSources": [
    {
     "datasetId": 7056949,
     "sourceId": 11286683,
     "sourceType": "datasetVersion"
    },
    {
     "isSourceIdPinned": true,
     "modelId": 292885,
     "modelInstanceId": 271894,
     "sourceId": 322648,
     "sourceType": "modelInstanceVersion"
    },
    {
     "isSourceIdPinned": true,
     "modelId": 293742,
     "modelInstanceId": 272768,
     "sourceId": 323790,
     "sourceType": "modelInstanceVersion"
    },
    {
     "isSourceIdPinned": true,
     "modelId": 295091,
     "modelInstanceId": 274185,
     "sourceId": 326366,
     "sourceType": "modelInstanceVersion"
    },
    {
     "isSourceIdPinned": true,
     "modelId": 295911,
     "modelInstanceId": 275022,
     "sourceId": 327701,
     "sourceType": "modelInstanceVersion"
    }
   ],
   "dockerImageVersionId": 30918,
   "isGpuEnabled": true,
   "isInternetEnabled": true,
   "language": "python",
   "sourceType": "notebook"
  },
  "kernelspec": {
   "display_name": "venv",
   "language": "python",
   "name": "python3"
  },
  "language_info": {
   "codemirror_mode": {
    "name": "ipython",
    "version": 3
   },
   "file_extension": ".py",
   "mimetype": "text/x-python",
   "name": "python",
   "nbconvert_exporter": "python",
   "pygments_lexer": "ipython3",
   "version": "3.10.11"
  },
  "papermill": {
   "default_parameters": {},
   "duration": 22332.614562,
   "end_time": "2025-04-09T02:04:26.889036",
   "environment_variables": {},
   "exception": null,
   "input_path": "__notebook__.ipynb",
   "output_path": "__notebook__.ipynb",
   "parameters": {},
   "start_time": "2025-04-08T19:52:14.274474",
   "version": "2.6.0"
  }
 },
 "nbformat": 4,
 "nbformat_minor": 5
}
